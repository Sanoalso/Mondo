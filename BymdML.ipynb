{
  "nbformat": 4,
  "nbformat_minor": 0,
  "metadata": {
    "colab": {
      "provenance": [],
      "mount_file_id": "1_puMtEVoFCD_qRMoMfefEEMc95lzE-WG",
      "authorship_tag": "ABX9TyPZbixQs5u+JszKSk8ynpLE",
      "include_colab_link": true
    },
    "kernelspec": {
      "name": "python3",
      "display_name": "Python 3"
    },
    "language_info": {
      "name": "python"
    }
  },
  "cells": [
    {
      "cell_type": "markdown",
      "metadata": {
        "id": "view-in-github",
        "colab_type": "text"
      },
      "source": [
        "<a href=\"https://colab.research.google.com/github/Sanoalso/Mondo/blob/main/BymdML.ipynb\" target=\"_parent\"><img src=\"https://colab.research.google.com/assets/colab-badge.svg\" alt=\"Open In Colab\"/></a>"
      ]
    },
    {
      "cell_type": "markdown",
      "source": [
        "# install data:\n"
      ],
      "metadata": {
        "id": "kkJpmUcnH5e8"
      }
    },
    {
      "cell_type": "code",
      "execution_count": null,
      "metadata": {
        "id": "nf7mu-CzHpUk",
        "colab": {
          "base_uri": "https://localhost:8080/"
        },
        "outputId": "09e5cbed-a08d-447e-cdab-477b9ab62de0"
      },
      "outputs": [
        {
          "output_type": "stream",
          "name": "stdout",
          "text": [
            "Mounted at /content/drive/\n",
            "0:00:03.463617\n"
          ]
        }
      ],
      "source": [
        "from datetime import datetime\n",
        "start_time = datetime.now()\n",
        "import numpy as np \n",
        "import sklearn\n",
        "from sklearn.datasets import load_breast_cancer\n",
        "from sklearn.model_selection import train_test_split\n",
        "from sklearn.naive_bayes import GaussianNB\n",
        "from sklearn.metrics import accuracy_score\n",
        "from sklearn.metrics import confusion_matrix\n",
        "import pandas as pd\n",
        "from google.colab import drive\n",
        "from pandas import read_csv\n",
        "drive.mount('/content/drive/', force_remount=True)\n",
        "# Main csc files \"/content/drive/MyDrive/LearningML/Tester.csv\", \"/content/drive/MyDrive/LearningML/Tester2 - Sheet1.csv\"\n",
        "end_time = datetime.now()\n",
        "print(format(end_time - start_time))"
      ]
    },
    {
      "cell_type": "code",
      "source": [],
      "metadata": {
        "id": "-DVw6wAf-C-v"
      },
      "execution_count": null,
      "outputs": []
    },
    {
      "cell_type": "code",
      "source": [],
      "metadata": {
        "id": "ORAl6IAQLWkc"
      },
      "execution_count": null,
      "outputs": []
    },
    {
      "cell_type": "code",
      "source": [
        "start_time_main = datetime.now()\n",
        "data = load_breast_cancer()\n",
        "label_names = data['target_names']\n",
        "labels = data['target']\n",
        "feature_names = data['feature_names']\n",
        "features = data['data']\n",
        "train, test, train_labels, test_labels = train_test_split(features, labels, test_size= 0.40, random_state= 42)\n",
        "gnb = GaussianNB()\n",
        "model = gnb.fit(train, train_labels)\n",
        "preds = gnb.predict(test)\n",
        "print(accuracy_score(test_labels,preds))\n",
        "\n",
        "end_time_main = datetime.now()\n",
        "print(format(end_time_main - start_time_main))"
      ],
      "metadata": {
        "colab": {
          "base_uri": "https://localhost:8080/"
        },
        "id": "mFiB-k2nLeJ_",
        "outputId": "e692a81d-f671-4c8c-fa20-931d661a6378"
      },
      "execution_count": null,
      "outputs": [
        {
          "output_type": "stream",
          "name": "stdout",
          "text": [
            "0.9517543859649122\n",
            "0:00:00.015712\n"
          ]
        }
      ]
    },
    {
      "cell_type": "code",
      "source": [],
      "metadata": {
        "id": "LoBPhmRl1dYu"
      },
      "execution_count": null,
      "outputs": []
    },
    {
      "cell_type": "markdown",
      "source": [
        "# The explanation of the terms associated with confusion matrix are as follows :\n",
        "- True Positives (TP): it is the case when both actual class & predicted class of data point is 0.\n",
        "- True Negatives (TN): it is the case when both actual class & predicted class of data point is 0.\n",
        "- False Positives (FP): it is the case when actual class of data point is 0 & predicted of data point is 1.\n",
        "- False Negatives (FN): it is the case when acutal class of data point is 1 & predicted class of data point is 0.\n",
        "![](https://drive.google.com/uc?export=view&id=12aH--jbbsgh03loUHK7KcBfcr6EKXK0e)\n",
        "# Formula:\n",
        "       \n",
        "![](https://drive.google.com/uc?export=view&id=1fZtNz4NsvE4nD1-VEq2-tF5VKg01BpFR)\n",
        "![](https://drive.google.com/uc?export=view&id=1KuILukr7CGO88cNnffXVOJ5yQBXyT-QF)\n",
        "![](https://drive.google.com/uc?export=view&id=1i74eLp6I3MeClR6haeSuXl336UKgPX1v)\n",
        "![](https://drive.google.com/uc?export=view&id=17zWFL_EZKtDVCoKLvYBD3KNszcbwb-IE)\n"
      ],
      "metadata": {
        "id": "HjtkkDYl1Rth"
      }
    },
    {
      "cell_type": "code",
      "source": [],
      "metadata": {
        "id": "QE1cduXe9_GO"
      },
      "execution_count": null,
      "outputs": []
    }
  ]
}